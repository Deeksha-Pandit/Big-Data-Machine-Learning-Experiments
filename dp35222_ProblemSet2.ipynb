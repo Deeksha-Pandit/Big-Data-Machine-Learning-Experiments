{
 "cells": [
  {
   "cell_type": "markdown",
   "metadata": {},
   "source": [
    "#  <p style=\"text-align: center;\">MIS 285N - Big Data and Distributed Programming</p>\n",
    "## <p style=\"text-align: center;\">Problem Set 2: Machine Learning Experiments</p>\n",
    "## <p style=\"text-align: center;\">Total points: 50</p>\n",
    "## <p style=\"text-align: center;\">Due: Tuesday, 20th September submitted via Canvas by 11:59 pm</p>\n",
    "### <p style=\"text-align: center;\">Submitted by: Deeksha Pandit</p>\n",
    "\n",
    "Your homework should be written in a **Jupyter notebook**.\n",
    "\n",
    "Also, please make sure your code runs and the graphics (and anything else) are displayed in your notebook before submitting.\n"
   ]
  },
  {
   "cell_type": "markdown",
   "metadata": {},
   "source": [
    "## Task 1: Logistic Regression on PCA components\n",
    "In the following code, you have to add a few lines to apply logistic regression to the PCA components. More specifically:\n",
    " 0. Load the Iris Dataset\n",
    " 1. Implement Standard Scalar based feature extraction\n",
    " 2. Implement PCA and use all components and compute the explained variance of each PCA component\n",
    " 3. Implement PCA and use two components that explain maximum variance. Implement logistic regression model to train and test and give a visual display of the performance by showing a plot of the decision regions along with the test data. Print the test accuracy."
   ]
  },
  {
   "cell_type": "code",
   "execution_count": 47,
   "metadata": {},
   "outputs": [],
   "source": [
    "from sklearn.decomposition import PCA\n",
    "from sklearn.model_selection import train_test_split\n",
    "import pandas as pd\n",
    "from sklearn.preprocessing import StandardScaler\n",
    "import numpy as np\n",
    "from sklearn.linear_model import LogisticRegression\n",
    "from matplotlib.colors import ListedColormap\n",
    "import matplotlib.pyplot as plt\n",
    "from sklearn.metrics import confusion_matrix\n",
    "import seaborn as sns\n",
    "from sklearn.metrics import classification_report\n",
    "\n",
    "def plot_decision_regions(X, y, classifier, test_idx=None, resolution=0.02):\n",
    "\n",
    "    # plotting decision regions\n",
    "    markers = ('s', 'x', 'o', '^', 'v')\n",
    "    colors = ('red', 'blue', 'lightgreen', 'gray', 'cyan')\n",
    "    cmap = ListedColormap(colors[:len(np.unique(y))])\n",
    "    x1_min, x1_max = X[:, 0].min() - 1, X[:, 0].max() + 1\n",
    "    x2_min, x2_max = X[:, 1].min() - 1, X[:, 1].max() + 1\n",
    "    xx1, xx2 = np.meshgrid(np.arange(x1_min, x1_max, resolution), np.arange(x2_min, x2_max, resolution))\n",
    "    Z = classifier.predict(np.array([xx1.ravel(), xx2.ravel()]).T)\n",
    "    Z = Z.reshape(xx1.shape)\n",
    "    plt.contourf(xx1, xx2, Z, alpha=0.4, cmap=cmap)\n",
    "    plt.xlim(xx1.min(), xx1.max())\n",
    "    plt.ylim(xx2.min(), xx2.max())\n",
    "\n",
    "    for idx, cl in enumerate(np.unique(y)):\n",
    "        plt.scatter(x=X[y == cl, 0], y=X[y == cl, 1],alpha=0.6, edgecolor='blue', marker=markers[idx], label=cl)\n",
    "\n",
    "    # test samples\n",
    "    if test_idx:\n",
    "        # plot graph\n",
    "        if not versiontuple(np.__version__) >= versiontuple('1.9.0'):\n",
    "            X_test, y_test = X[list(test_idx), :], y[list(test_idx)]\n",
    "        else:\n",
    "            X_test, y_test = X[test_idx, :], y[test_idx]\n",
    "        plt.scatter(X_test[:, 0],X_test[:, 1],alpha=1.0,edgecolor='blue',linewidths=1,marker='o',s=55, label='test set')\n",
    "        \n",
    "def versiontuple(v):\n",
    "    return tuple(map(int, (v.split(\".\"))))"
   ]
  },
  {
   "cell_type": "code",
   "execution_count": 48,
   "metadata": {},
   "outputs": [
    {
     "data": {
      "text/html": [
       "<div>\n",
       "<style scoped>\n",
       "    .dataframe tbody tr th:only-of-type {\n",
       "        vertical-align: middle;\n",
       "    }\n",
       "\n",
       "    .dataframe tbody tr th {\n",
       "        vertical-align: top;\n",
       "    }\n",
       "\n",
       "    .dataframe thead th {\n",
       "        text-align: right;\n",
       "    }\n",
       "</style>\n",
       "<table border=\"1\" class=\"dataframe\">\n",
       "  <thead>\n",
       "    <tr style=\"text-align: right;\">\n",
       "      <th></th>\n",
       "      <th>Id</th>\n",
       "      <th>SepalLengthCm</th>\n",
       "      <th>SepalWidthCm</th>\n",
       "      <th>PetalLengthCm</th>\n",
       "      <th>PetalWidthCm</th>\n",
       "      <th>Species</th>\n",
       "    </tr>\n",
       "  </thead>\n",
       "  <tbody>\n",
       "    <tr>\n",
       "      <th>0</th>\n",
       "      <td>1</td>\n",
       "      <td>5.1</td>\n",
       "      <td>3.5</td>\n",
       "      <td>1.4</td>\n",
       "      <td>0.2</td>\n",
       "      <td>0</td>\n",
       "    </tr>\n",
       "    <tr>\n",
       "      <th>1</th>\n",
       "      <td>2</td>\n",
       "      <td>4.9</td>\n",
       "      <td>3.0</td>\n",
       "      <td>1.4</td>\n",
       "      <td>0.2</td>\n",
       "      <td>0</td>\n",
       "    </tr>\n",
       "    <tr>\n",
       "      <th>2</th>\n",
       "      <td>3</td>\n",
       "      <td>4.7</td>\n",
       "      <td>3.2</td>\n",
       "      <td>1.3</td>\n",
       "      <td>0.2</td>\n",
       "      <td>0</td>\n",
       "    </tr>\n",
       "    <tr>\n",
       "      <th>3</th>\n",
       "      <td>4</td>\n",
       "      <td>4.6</td>\n",
       "      <td>3.1</td>\n",
       "      <td>1.5</td>\n",
       "      <td>0.2</td>\n",
       "      <td>0</td>\n",
       "    </tr>\n",
       "    <tr>\n",
       "      <th>4</th>\n",
       "      <td>5</td>\n",
       "      <td>5.0</td>\n",
       "      <td>3.6</td>\n",
       "      <td>1.4</td>\n",
       "      <td>0.2</td>\n",
       "      <td>0</td>\n",
       "    </tr>\n",
       "    <tr>\n",
       "      <th>...</th>\n",
       "      <td>...</td>\n",
       "      <td>...</td>\n",
       "      <td>...</td>\n",
       "      <td>...</td>\n",
       "      <td>...</td>\n",
       "      <td>...</td>\n",
       "    </tr>\n",
       "    <tr>\n",
       "      <th>145</th>\n",
       "      <td>146</td>\n",
       "      <td>6.7</td>\n",
       "      <td>3.0</td>\n",
       "      <td>5.2</td>\n",
       "      <td>2.3</td>\n",
       "      <td>2</td>\n",
       "    </tr>\n",
       "    <tr>\n",
       "      <th>146</th>\n",
       "      <td>147</td>\n",
       "      <td>6.3</td>\n",
       "      <td>2.5</td>\n",
       "      <td>5.0</td>\n",
       "      <td>1.9</td>\n",
       "      <td>2</td>\n",
       "    </tr>\n",
       "    <tr>\n",
       "      <th>147</th>\n",
       "      <td>148</td>\n",
       "      <td>6.5</td>\n",
       "      <td>3.0</td>\n",
       "      <td>5.2</td>\n",
       "      <td>2.0</td>\n",
       "      <td>2</td>\n",
       "    </tr>\n",
       "    <tr>\n",
       "      <th>148</th>\n",
       "      <td>149</td>\n",
       "      <td>6.2</td>\n",
       "      <td>3.4</td>\n",
       "      <td>5.4</td>\n",
       "      <td>2.3</td>\n",
       "      <td>2</td>\n",
       "    </tr>\n",
       "    <tr>\n",
       "      <th>149</th>\n",
       "      <td>150</td>\n",
       "      <td>5.9</td>\n",
       "      <td>3.0</td>\n",
       "      <td>5.1</td>\n",
       "      <td>1.8</td>\n",
       "      <td>2</td>\n",
       "    </tr>\n",
       "  </tbody>\n",
       "</table>\n",
       "<p>150 rows × 6 columns</p>\n",
       "</div>"
      ],
      "text/plain": [
       "      Id  SepalLengthCm  SepalWidthCm  PetalLengthCm  PetalWidthCm  Species\n",
       "0      1            5.1           3.5            1.4           0.2        0\n",
       "1      2            4.9           3.0            1.4           0.2        0\n",
       "2      3            4.7           3.2            1.3           0.2        0\n",
       "3      4            4.6           3.1            1.5           0.2        0\n",
       "4      5            5.0           3.6            1.4           0.2        0\n",
       "..   ...            ...           ...            ...           ...      ...\n",
       "145  146            6.7           3.0            5.2           2.3        2\n",
       "146  147            6.3           2.5            5.0           1.9        2\n",
       "147  148            6.5           3.0            5.2           2.0        2\n",
       "148  149            6.2           3.4            5.4           2.3        2\n",
       "149  150            5.9           3.0            5.1           1.8        2\n",
       "\n",
       "[150 rows x 6 columns]"
      ]
     },
     "execution_count": 48,
     "metadata": {},
     "output_type": "execute_result"
    }
   ],
   "source": [
    "# Loading the iris dataset and using all the features\n",
    "iris = pd.read_csv(r'/Users/deekshapandit/Desktop/Big Data/Assignment2/Iris.csv')\n",
    "iris['Species'] = iris['Species'].replace(['Iris-setosa'],0)\n",
    "iris['Species'] = iris['Species'].replace(['Iris-versicolor'],1)\n",
    "iris['Species'] = iris['Species'].replace(['Iris-virginica'],2)\n",
    "iris"
   ]
  },
  {
   "cell_type": "markdown",
   "metadata": {},
   "source": [
    "<!-- ### The above plot depicts that the 1st principle component captures 72% of the variance and first two combined holds ~96% of the variance -->"
   ]
  },
  {
   "cell_type": "code",
   "execution_count": 49,
   "metadata": {},
   "outputs": [
    {
     "name": "stderr",
     "output_type": "stream",
     "text": [
      "/var/folders/sv/8pbk7f_j7b35szzr7637336m0000gn/T/ipykernel_37873/2462927426.py:29: UserWarning: You passed a edgecolor/edgecolors ('blue') for an unfilled marker ('x').  Matplotlib is ignoring the edgecolor in favor of the facecolor.  This behavior may change in the future.\n",
      "  plt.scatter(x=X[y == cl, 0], y=X[y == cl, 1],alpha=0.6, edgecolor='blue', marker=markers[idx], label=cl)\n"
     ]
    },
    {
     "data": {
      "image/png": "[encoded data removed]",
      "text/plain": [
       "<Figure size 432x288 with 1 Axes>"
      ]
     },
     "metadata": {
      "needs_background": "light"
     },
     "output_type": "display_data"
    }
   ],
   "source": [
    "# Plot LogisticRegression for two features without Standardization and without PCA\n",
    "X = iris.iloc[:, [1,2]].values\n",
    "y = iris.iloc[:, 5].values\n",
    "X_train, X_test, y_train, y_test = train_test_split(X, y, test_size=0.3, random_state=0)\n",
    "classifier = LogisticRegression(random_state=0)\n",
    "classifier.fit(X_train, y_train)\n",
    "plot_decision_regions(X, y, classifier=classifier,test_idx=range(70, 100))\n",
    "plt.xlabel(\"Sepal Length\")\n",
    "plt.ylabel(\"Sepal Width\")\n",
    "plt.legend(loc='upper left')\n",
    "plt.show()"
   ]
  },
  {
   "cell_type": "code",
   "execution_count": 50,
   "metadata": {},
   "outputs": [
    {
     "name": "stdout",
     "output_type": "stream",
     "text": [
      "Accuracy = 0.82\n"
     ]
    }
   ],
   "source": [
    "# Compute accuracy\n",
    "y_pred = classifier.predict(X_test)\n",
    "from sklearn.metrics import accuracy_score\n",
    "print('Accuracy = %.2f' % accuracy_score(y_test,y_pred))"
   ]
  },
  {
   "cell_type": "code",
   "execution_count": 51,
   "metadata": {},
   "outputs": [
    {
     "name": "stderr",
     "output_type": "stream",
     "text": [
      "/var/folders/sv/8pbk7f_j7b35szzr7637336m0000gn/T/ipykernel_37873/2462927426.py:29: UserWarning: You passed a edgecolor/edgecolors ('blue') for an unfilled marker ('x').  Matplotlib is ignoring the edgecolor in favor of the facecolor.  This behavior may change in the future.\n",
      "  plt.scatter(x=X[y == cl, 0], y=X[y == cl, 1],alpha=0.6, edgecolor='blue', marker=markers[idx], label=cl)\n"
     ]
    },
    {
     "data": {
      "image/png": "[encoded data removed]",
      "text/plain": [
       "<Figure size 432x288 with 1 Axes>"
      ]
     },
     "metadata": {
      "needs_background": "light"
     },
     "output_type": "display_data"
    }
   ],
   "source": [
    "# Plot LogisticRegression for two features with Standardization and without PCA\n",
    "sc = StandardScaler()\n",
    "sc.fit(X_train)\n",
    "X_train_std = sc.fit_transform(X_train)\n",
    "X_test_std = sc.transform(X_test)\n",
    "X_std = sc.transform(X)\n",
    "classifier_std = LogisticRegression(random_state=0)\n",
    "classifier_std.fit(X_train_std, y_train)\n",
    "plot_decision_regions(X_std, y, classifier=classifier_std,test_idx=range(70, 100))\n",
    "plt.xlabel(\"Sepal Length\")\n",
    "plt.ylabel(\"Sepal Width\")\n",
    "plt.legend(loc='upper left')\n",
    "plt.show()"
   ]
  },
  {
   "cell_type": "code",
   "execution_count": 52,
   "metadata": {},
   "outputs": [
    {
     "name": "stdout",
     "output_type": "stream",
     "text": [
      "Accuracy = 0.82\n"
     ]
    }
   ],
   "source": [
    "# Compute accuracy \n",
    "y_pred = classifier_std.predict(X_test_std)\n",
    "from sklearn.metrics import accuracy_score\n",
    "print('Accuracy = %.2f' % accuracy_score(y_test,y_pred))"
   ]
  },
  {
   "cell_type": "code",
   "execution_count": 53,
   "metadata": {},
   "outputs": [
    {
     "data": {
      "image/png": "[encoded data removed]",
      "text/plain": [
       "<Figure size 432x288 with 1 Axes>"
      ]
     },
     "metadata": {
      "needs_background": "light"
     },
     "output_type": "display_data"
    },
    {
     "name": "stdout",
     "output_type": "stream",
     "text": [
      "PCA explained variance ratio =  [0.71803699 0.24442718 0.03337158 0.00416425]\n"
     ]
    }
   ],
   "source": [
    "# Plot LogisticRegression for two features with Standardization and with PCA\n",
    "sc = StandardScaler()\n",
    "X, y = iris.iloc[:, [1,2,3,4]].values, iris.iloc[:, 5].values \n",
    "\n",
    "# train_test_split\n",
    "X_train, X_test, y_train, y_test = \\\n",
    "    train_test_split(X, y, test_size=0.3, random_state=0)\n",
    "\n",
    "sc.fit(X_train)\n",
    "X_train_std = sc.transform(X_train)\n",
    "X_test_std = sc.transform(X_test)\n",
    "# Compute PCA() and plot explained variance ratio vs principal components\n",
    "pca = PCA()\n",
    "X_train_pca = pca.fit_transform(X_train_std)\n",
    "plt.bar(range(1, 5), pca.explained_variance_ratio_, alpha=0.5, align='center')\n",
    "plt.step(range(1, 5), np.cumsum(pca.explained_variance_ratio_), where='mid')\n",
    "plt.xlabel('Principal components')\n",
    "plt.ylabel('Explained variance ratio')\n",
    "plt.show()\n",
    "print(\"PCA explained variance ratio = \", pca.explained_variance_ratio_)"
   ]
  },
  {
   "cell_type": "code",
   "execution_count": null,
   "metadata": {},
   "outputs": [],
   "source": [
    "# According to the above graph, the first principle component accounts for 72% of the variance, \n",
    "# while the first two together account for 96% of the variance."
   ]
  },
  {
   "cell_type": "code",
   "execution_count": 54,
   "metadata": {},
   "outputs": [
    {
     "name": "stdout",
     "output_type": "stream",
     "text": [
      "Train Accuracy = 0.9\n",
      "Test Accuracy = 0.91\n"
     ]
    },
    {
     "name": "stderr",
     "output_type": "stream",
     "text": [
      "/var/folders/sv/8pbk7f_j7b35szzr7637336m0000gn/T/ipykernel_37873/2462927426.py:29: UserWarning: You passed a edgecolor/edgecolors ('blue') for an unfilled marker ('x').  Matplotlib is ignoring the edgecolor in favor of the facecolor.  This behavior may change in the future.\n",
      "  plt.scatter(x=X[y == cl, 0], y=X[y == cl, 1],alpha=0.6, edgecolor='blue', marker=markers[idx], label=cl)\n"
     ]
    },
    {
     "data": {
      "image/png": "[encoded data removed]",
      "text/plain": [
       "<Figure size 432x288 with 1 Axes>"
      ]
     },
     "metadata": {
      "needs_background": "light"
     },
     "output_type": "display_data"
    }
   ],
   "source": [
    "# PCA for top two components\n",
    "pca = PCA(n_components=2)\n",
    "X_scaled = sc.fit_transform(X)\n",
    "X_pca = pca.fit_transform(X_scaled)\n",
    "X_train_pca, X_test_pca, y_train, y_test = train_test_split(X_pca, y, test_size=0.30, shuffle=True, random_state=2)\n",
    "\n",
    "# Run LogisticRegression and train the model\n",
    "classifier_pca = LogisticRegression(random_state=0)\n",
    "classifier_pca.fit(X_train_pca, y_train)\n",
    "\n",
    "# Make predictions and get train and test accuracy\n",
    "y_pred = classifier_pca.predict(X_test_pca)\n",
    "y_true = y_test\n",
    "print(\"Train Accuracy =\", np.round(accuracy_score(y_train, classifier_pca.predict(X_train_pca)), 2))\n",
    "print(\"Test Accuracy =\", np.round(accuracy_score(y_true, y_pred), 2))\n",
    "\n",
    "# Plot the two components\n",
    "plot_decision_regions(X_train_pca, y_train, classifier=classifier_pca,test_idx=range(70, 100))\n",
    "plt.xlabel(\"PC1\")\n",
    "plt.ylabel(\"PC2\")\n",
    "plt.legend(loc='upper left')\n",
    "plt.show()"
   ]
  },
  {
   "cell_type": "code",
   "execution_count": 57,
   "metadata": {},
   "outputs": [
    {
     "name": "stdout",
     "output_type": "stream",
     "text": [
      "Confusion Matrix\n"
     ]
    },
    {
     "data": {
      "text/plain": [
       "Text(33.0, 0.5, 'True')"
      ]
     },
     "execution_count": 57,
     "metadata": {},
     "output_type": "execute_result"
    },
    {
     "data": {
      "image/png": "[encoded data removed]",
      "text/plain": [
       "<Figure size 432x288 with 2 Axes>"
      ]
     },
     "metadata": {
      "needs_background": "light"
     },
     "output_type": "display_data"
    }
   ],
   "source": [
    "cf_matrix = confusion_matrix(y_true, y_pred)\n",
    "print(\"Confusion Matrix\")\n",
    "sns.heatmap(cf_matrix, annot=True, cmap='Reds')\n",
    "plt.xlabel('Predicted')\n",
    "plt.ylabel('True')"
   ]
  },
  {
   "cell_type": "code",
   "execution_count": null,
   "metadata": {},
   "outputs": [],
   "source": [
    "# EXPLAINATION\n",
    "# After using PCA, test accuracy increased from 82% to 91%. \n",
    "# The model is currently operating well on test data and is more generalized."
   ]
  },
  {
   "cell_type": "markdown",
   "metadata": {},
   "source": [
    "# Task 2 "
   ]
  },
  {
   "cell_type": "markdown",
   "metadata": {},
   "source": [
    "In this exercise, we will take two features from the iris dataset and train using AdalineGD vs. AdalineSGD based on the implementation provided below and the perceptron model implementations from scikit-learn and one provided below.  \n",
    "You should have three plots (Adaline Rule vs. AdalineSGD vs. scikit Perceptron) along with performance comparison between these four methods. What do you observe in terms of performance difference? Please explain your interpretation. \n",
    "\n",
    "However, you are free to use any combination of two features out of 4 features given in this dataset. \n"
   ]
  },
  {
   "cell_type": "code",
   "execution_count": 58,
   "metadata": {},
   "outputs": [
    {
     "name": "stdout",
     "output_type": "stream",
     "text": [
      "Initial Weights: [0. 0. 0.]\n",
      "New Weights: [0.05       0.69020908 0.83922997]\n",
      "Cost: 36.5\n",
      "New Weights: [ 0.0475     -0.07793443  0.19390559]\n",
      "Cost: 30.93423328078246\n",
      "New Weights: [0.047625   0.52459857 0.89766294]\n",
      "Cost: 26.458715322083464\n",
      "New Weights: [ 0.04761875 -0.12073449  0.33575636]\n",
      "Cost: 22.756711132912088\n",
      "New Weights: [0.04761906 0.40273631 0.92798511]\n",
      "Cost: 19.676535218377207\n",
      "New Weights: [ 0.04761905 -0.14114823  0.44076908]\n",
      "Cost: 17.10125761384329\n",
      "New Weights: [0.04761905 0.31195761 0.94057964]\n",
      "Cost: 14.939413658563408\n",
      "New Weights: [ 0.04761905 -0.14761911  0.51949574]\n",
      "Cost: 13.11859234336571\n",
      "New Weights: [0.04761905 0.24346034 0.94229997]\n",
      "Cost: 11.580825331014973\n",
      "New Weights: [ 0.04761905 -0.14569812  0.57928825]\n",
      "Cost: 10.279236002408314\n",
      "\n",
      "Misclassified Samples = 18\n",
      "Accuracy = 0.60\n"
     ]
    },
    {
     "name": "stderr",
     "output_type": "stream",
     "text": [
      "/var/folders/sv/8pbk7f_j7b35szzr7637336m0000gn/T/ipykernel_37873/2462927426.py:29: UserWarning: You passed a edgecolor/edgecolors ('blue') for an unfilled marker ('x').  Matplotlib is ignoring the edgecolor in favor of the facecolor.  This behavior may change in the future.\n",
      "  plt.scatter(x=X[y == cl, 0], y=X[y == cl, 1],alpha=0.6, edgecolor='blue', marker=markers[idx], label=cl)\n"
     ]
    },
    {
     "data": {
      "image/png": "[encoded data removed]",
      "text/plain": [
       "<Figure size 432x288 with 1 Axes>"
      ]
     },
     "metadata": {
      "needs_background": "light"
     },
     "output_type": "display_data"
    }
   ],
   "source": [
    "# Sebastian Raschka's implementation of the Adaline Rule\n",
    "from sklearn.metrics import accuracy_score\n",
    "class AdalineGD(object):\n",
    "    \"\"\"ADAptive LInear NEuron classifier.\n",
    "\n",
    "    Parameters\n",
    "    ------------\n",
    "    eta : float\n",
    "        Learning rate (between 0.0 and 1.0)\n",
    "    n_iter : int\n",
    "        Passes over the training dataset.\n",
    "\n",
    "    Attributes\n",
    "    -----------\n",
    "    w_ : 1d-array\n",
    "        Weights after fitting.\n",
    "    cost_ : list\n",
    "        Sum-of-squares cost function value in each epoch.\n",
    "        (After training, we can look at this to see if our algorithm converged)\n",
    "    \"\"\"\n",
    "    def __init__(self, eta=0.01, n_iter=50, debug=False):\n",
    "        self.eta = eta\n",
    "        self.n_iter = n_iter\n",
    "        self.debug = debug\n",
    "\n",
    "    def fit(self, X, y):\n",
    "        \"\"\" Fit training data.\n",
    "\n",
    "        Parameters\n",
    "        ----------\n",
    "        X : {array-like}, shape = [n_samples, n_features]\n",
    "            Training vectors, where n_samples is the number of samples and\n",
    "            n_features is the number of features.\n",
    "        y : array-like, shape = [n_samples]\n",
    "            Target values.\n",
    "\n",
    "        Returns\n",
    "        -------\n",
    "        self : object\n",
    "\n",
    "        \"\"\"\n",
    "        self.w_ = np.zeros(1 + X.shape[1])\n",
    "        self.cost_ = []\n",
    "        if self.debug: print(\"Initial Weights:\", self.w_)\n",
    "        for i in range(self.n_iter):\n",
    "            net_input = self.net_input(X)\n",
    "            # Please note that the \"activation\" method has no effect\n",
    "            # in the code since it is simply an identity function. We\n",
    "            # could write `output = self.net_input(X)` directly instead.\n",
    "            # The purpose of the activation is more conceptual, i.e.,  \n",
    "            # in the case of logistic regression, we could change it to\n",
    "            # a sigmoid function to implement a logistic regression classifier.\n",
    "            output = self.activation(X)\n",
    "            errors = (y - output)\n",
    "            self.w_[1:] += self.eta * X.T.dot(errors)\n",
    "            self.w_[0] += self.eta * errors.sum()\n",
    "            cost = (errors**2).sum() / 2.0\n",
    "            self.cost_.append(cost)\n",
    "            if self.debug: print(\"New Weights:\", self.w_)\n",
    "            if self.debug: print(\"Cost:\", cost)\n",
    "        return self\n",
    "\n",
    "    def net_input(self, X):\n",
    "        \"\"\"Calculate net input\"\"\"\n",
    "        return np.dot(X, self.w_[1:]) + self.w_[0]\n",
    "\n",
    "    def activation(self, X):\n",
    "        \"\"\"Compute linear activation\"\"\"\n",
    "        return self.net_input(X)\n",
    "\n",
    "    def predict(self, X):\n",
    "        \"\"\"Return class label after unit step\"\"\"\n",
    "        return np.where(self.activation(X) >= 0.0, 1, -1)\n",
    "    \n",
    "    \n",
    "## your code here\n",
    "\n",
    "iris_t2 = pd.read_csv(r'Iris.csv')\n",
    "\n",
    "# pre-processing steps\n",
    "iris_t2['Species'] = iris_t2['Species'].replace(['Iris-setosa'],-1)\n",
    "iris_t2['Species'] = iris_t2['Species'].replace(['Iris-versicolor'],0)\n",
    "iris_t2['Species'] = iris_t2['Species'].replace(['Iris-virginica'],1)\n",
    "X = iris_t2.iloc[:150, [1,4]].values\n",
    "y = iris_t2.iloc[:150, 5].values\n",
    "X_train, X_test, y_train, y_test = train_test_split(X, y, test_size=0.3, random_state=0)\n",
    "\n",
    "# StandardScaler() from task 1\n",
    "sc = StandardScaler()\n",
    "sc.fit(X_train)\n",
    "X_train_std = sc.fit_transform(X_train)\n",
    "X_test_std = sc.transform(X_test)\n",
    "ada = AdalineGD(n_iter=10,eta=0.01, debug=True)\n",
    "ada.fit(X_train_std,y_train)\n",
    "\n",
    "# Make predictions\n",
    "y_pred = ada.predict(X_test_std)\n",
    "\n",
    "print('\\nMisclassified Samples = %d' %(y_test != y_pred).sum())\n",
    "print('Accuracy = %.2f' % accuracy_score(y_test,y_pred))\n",
    "\n",
    "# Plot graphs\n",
    "X_combined = np.vstack((X_train, X_test))\n",
    "y_combined = np.hstack((y_train, y_test))\n",
    "plot_decision_regions(X_combined, y_combined, classifier=ada,test_idx=range(70, 100))\n",
    "plt.title('AdalineGD')\n",
    "plt.legend(loc='upper left')\n",
    "plt.xlabel('Sepal Length')\n",
    "plt.ylabel('Petal Width')\n",
    "plt.show()"
   ]
  },
  {
   "cell_type": "code",
   "execution_count": 59,
   "metadata": {},
   "outputs": [
    {
     "name": "stdout",
     "output_type": "stream",
     "text": [
      "Misclassified Samples = 18\n",
      "Accuracy = 0.60\n"
     ]
    },
    {
     "name": "stderr",
     "output_type": "stream",
     "text": [
      "/var/folders/sv/8pbk7f_j7b35szzr7637336m0000gn/T/ipykernel_37873/2462927426.py:29: UserWarning: You passed a edgecolor/edgecolors ('blue') for an unfilled marker ('x').  Matplotlib is ignoring the edgecolor in favor of the facecolor.  This behavior may change in the future.\n",
      "  plt.scatter(x=X[y == cl, 0], y=X[y == cl, 1],alpha=0.6, edgecolor='blue', marker=markers[idx], label=cl)\n"
     ]
    },
    {
     "data": {
      "image/png": "[encoded data removed]",
      "text/plain": [
       "<Figure size 432x288 with 1 Axes>"
      ]
     },
     "metadata": {
      "needs_background": "light"
     },
     "output_type": "display_data"
    }
   ],
   "source": [
    "from numpy.random import seed\n",
    "\n",
    "class AdalineSGD(object):\n",
    "    \"\"\"ADAptive LInear NEuron classifier.\n",
    "\n",
    "    Parameters\n",
    "    ------------\n",
    "    eta : float\n",
    "        Learning rate (between 0.0 and 1.0)\n",
    "    n_iter : int\n",
    "        Passes over the training dataset.\n",
    "\n",
    "    Attributes\n",
    "    -----------\n",
    "    w_ : 1d-array\n",
    "        Weights after fitting.\n",
    "    cost_ : list\n",
    "        Sum-of-squares cost function value averaged over all\n",
    "        training samples in each epoch.\n",
    "    shuffle : bool (default: True)\n",
    "        Shuffles training data every epoch if True to prevent cycles.\n",
    "    random_state : int (default: None)\n",
    "        Set random state for shuffling and initializing the weights.\n",
    "        \n",
    "    \"\"\"\n",
    "    def __init__(self, eta=0.01, n_iter=10, shuffle=True, random_state=None):\n",
    "        self.eta = eta\n",
    "        self.n_iter = n_iter\n",
    "        self.w_initialized = False\n",
    "        self.shuffle = shuffle\n",
    "        if random_state:\n",
    "            seed(random_state)\n",
    "        \n",
    "    def fit(self, X, y):\n",
    "        \"\"\" Fit training data.\n",
    "\n",
    "        Parameters\n",
    "        ----------\n",
    "        X : {array-like}, shape = [n_samples, n_features]\n",
    "            Training vectors, where n_samples is the number of samples and\n",
    "            n_features is the number of features.\n",
    "        y : array-like, shape = [n_samples]\n",
    "            Target values.\n",
    "\n",
    "        Returns\n",
    "        -------\n",
    "        self : object\n",
    "\n",
    "        \"\"\"\n",
    "        self._initialize_weights(X.shape[1])\n",
    "        self.cost_ = []\n",
    "        for i in range(self.n_iter):\n",
    "            if self.shuffle:\n",
    "                X, y = self._shuffle(X, y)\n",
    "            cost = []\n",
    "            for xi, target in zip(X, y):\n",
    "                cost.append(self._update_weights(xi, target))\n",
    "            avg_cost = sum(cost) / len(y)\n",
    "            self.cost_.append(avg_cost)\n",
    "        return self\n",
    "\n",
    "    def partial_fit(self, X, y):\n",
    "        \"\"\"Fit training data without reinitializing the weights\"\"\"\n",
    "        if not self.w_initialized:\n",
    "            self._initialize_weights(X.shape[1])\n",
    "        if y.ravel().shape[0] > 1:\n",
    "            for xi, target in zip(X, y):\n",
    "                self._update_weights(xi, target)\n",
    "        else:\n",
    "            self._update_weights(X, y)\n",
    "        return self\n",
    "\n",
    "    def _shuffle(self, X, y):\n",
    "        \"\"\"Shuffle training data\"\"\"\n",
    "        r = np.random.permutation(len(y))\n",
    "        return X[r], y[r]\n",
    "    \n",
    "    def _initialize_weights(self, m):\n",
    "        \"\"\"Initialize weights to zeros\"\"\"\n",
    "        self.w_ = np.zeros(1 + m)\n",
    "        self.w_initialized = True\n",
    "        \n",
    "    def _update_weights(self, xi, target):\n",
    "        \"\"\"Apply Adaline learning rule to update the weights\"\"\"\n",
    "        output = self.net_input(xi)\n",
    "        error = (target - output)\n",
    "        self.w_[1:] += self.eta * xi.dot(error)\n",
    "        self.w_[0] += self.eta * error\n",
    "        cost = 0.5 * error**2\n",
    "        return cost\n",
    "    \n",
    "    def net_input(self, X):\n",
    "        \"\"\"Calculate net input\"\"\"\n",
    "        return np.dot(X, self.w_[1:]) + self.w_[0]\n",
    "\n",
    "    def activation(self, X):\n",
    "        \"\"\"Compute linear activation\"\"\"\n",
    "        return self.net_input(X)\n",
    "\n",
    "    def predict(self, X):\n",
    "        \"\"\"Return class label after unit step\"\"\"\n",
    "        return np.where(self.activation(X) >= 0.0, 1, -1)\n",
    "    \n",
    "    \n",
    "## your code here\n",
    "iris_t3 = pd.read_csv(r'Iris.csv')\n",
    "\n",
    "iris_t3['Species'] = iris_t3['Species'].replace(['Iris-setosa'],-1)\n",
    "iris_t3['Species'] = iris_t3['Species'].replace(['Iris-versicolor'],0)\n",
    "iris_t3['Species'] = iris_t3['Species'].replace(['Iris-virginica'],1)\n",
    "\n",
    "X = iris_t3.iloc[:, [1,4]].values\n",
    "y = iris_t3.iloc[:, 5].values\n",
    "\n",
    "X_std = np.copy(X)\n",
    "X_std[:, 0] = (X[:, 0] - X[:, 0].mean()) / X[:, 0].std()\n",
    "X_std[:, 1] = (X[:, 1] - X[:, 1].mean()) / X[:, 1].std()\n",
    "\n",
    "adasgd = AdalineSGD(n_iter=40, eta=0.1, random_state=1)\n",
    "# We are using all but the first input sample to train (no split)\n",
    "adasgd.fit(X_std[1:, :], y[10:])\n",
    "\n",
    "print('Misclassified Samples = %d' %(y_test != y_pred).sum())\n",
    "print('Accuracy = %.2f' % accuracy_score(y_test,y_pred))\n",
    "\n",
    "# Plot graph\n",
    "plot_decision_regions(X_std[1:, :],  y[1:], classifier=adasgd,test_idx=range(70, 100))\n",
    "plt.title('AdalineSGD')\n",
    "plt.legend(loc='upper left')\n",
    "plt.xlabel('Sepal Length')\n",
    "plt.ylabel('Petal Width')\n",
    "plt.savefig('adalineSGD.png', dpi=300)\n",
    "plt.show()"
   ]
  },
  {
   "cell_type": "code",
   "execution_count": 60,
   "metadata": {},
   "outputs": [
    {
     "name": "stdout",
     "output_type": "stream",
     "text": [
      "Misclassified Samples = 11\n",
      "Accuracy = 0.76\n"
     ]
    },
    {
     "name": "stderr",
     "output_type": "stream",
     "text": [
      "/var/folders/sv/8pbk7f_j7b35szzr7637336m0000gn/T/ipykernel_37873/2462927426.py:29: UserWarning: You passed a edgecolor/edgecolors ('blue') for an unfilled marker ('x').  Matplotlib is ignoring the edgecolor in favor of the facecolor.  This behavior may change in the future.\n",
      "  plt.scatter(x=X[y == cl, 0], y=X[y == cl, 1],alpha=0.6, edgecolor='blue', marker=markers[idx], label=cl)\n"
     ]
    },
    {
     "data": {
      "image/png": "[encoded data removed]",
      "text/plain": [
       "<Figure size 432x288 with 1 Axes>"
      ]
     },
     "metadata": {
      "needs_background": "light"
     },
     "output_type": "display_data"
    }
   ],
   "source": [
    "from sklearn.linear_model import Perceptron\n",
    "from sklearn.metrics import accuracy_score\n",
    "from sklearn.linear_model import Perceptron\n",
    "from sklearn.metrics import accuracy_score\n",
    "\n",
    "## your code here\n",
    "iris_t4 = pd.read_csv(r'Iris.csv')\n",
    "iris_t4['Species'] = iris_t4['Species'].replace(['Iris-setosa'],-1)\n",
    "iris_t4['Species'] = iris_t4['Species'].replace(['Iris-versicolor'],0)\n",
    "iris_t4['Species'] = iris_t4['Species'].replace(['Iris-virginica'],1)\n",
    "\n",
    "X = iris_t4.iloc[:, [1,4]].values\n",
    "y = iris_t4.iloc[:, 5].values\n",
    "\n",
    "X_train, X_test, y_train, y_test = train_test_split(X, y, test_size=0.3, random_state=0)\n",
    "\n",
    "# StandardScaler() from task 1\n",
    "sc = StandardScaler()\n",
    "sc.fit(X_train)\n",
    "X_train_std = sc.transform(X_train)\n",
    "X_test_std = sc.transform(X_test)\n",
    "\n",
    "ppn = Perceptron(max_iter=40, eta0=0.1, random_state=0)\n",
    "ppn.fit(X_train_std, y_train)\n",
    "y_pred = ppn.predict(X_test_std)\n",
    "print('Misclassified Samples = %d' % (y_test != y_pred).sum())\n",
    "print('Accuracy = %.2f' % accuracy_score(y_test, y_pred))\n",
    "\n",
    "X_combined_std = np.vstack((X_train_std, X_test_std))\n",
    "y_combined = np.hstack((y_train, y_test))\n",
    "\n",
    "# Plot graph\n",
    "plot_decision_regions(X=X_combined_std, y=y_combined,classifier=ppn, test_idx=range(105, 150))\n",
    "plt.title('Perceptron')\n",
    "plt.legend(loc='upper left')\n",
    "plt.xlabel('Sepal Length')\n",
    "plt.ylabel('Petal Width')\n",
    "plt.savefig('iris_perceptron_scikit.png', dpi=300)\n",
    "plt.show()"
   ]
  },
  {
   "cell_type": "code",
   "execution_count": 61,
   "metadata": {},
   "outputs": [
    {
     "name": "stdout",
     "output_type": "stream",
     "text": [
      "Misclassified Samples = 18\n",
      "Accuracy = 0.60\n"
     ]
    },
    {
     "name": "stderr",
     "output_type": "stream",
     "text": [
      "/var/folders/sv/8pbk7f_j7b35szzr7637336m0000gn/T/ipykernel_37873/2462927426.py:29: UserWarning: You passed a edgecolor/edgecolors ('blue') for an unfilled marker ('x').  Matplotlib is ignoring the edgecolor in favor of the facecolor.  This behavior may change in the future.\n",
      "  plt.scatter(x=X[y == cl, 0], y=X[y == cl, 1],alpha=0.6, edgecolor='blue', marker=markers[idx], label=cl)\n"
     ]
    },
    {
     "data": {
      "image/png": "[encoded data removed]",
      "text/plain": [
       "<Figure size 432x288 with 1 Axes>"
      ]
     },
     "metadata": {
      "needs_background": "light"
     },
     "output_type": "display_data"
    }
   ],
   "source": [
    "# Sebastian Raschka's implementation of the Perceptron Learning rule\n",
    "import numpy as np\n",
    "\n",
    "class Perceptron_S(object):\n",
    "    \"\"\"Perceptron classifier.\n",
    "\n",
    "    Parameters\n",
    "    ------------\n",
    "    eta : float\n",
    "        Learning rate (between 0.0 and 1.0)\n",
    "    n_iter : int\n",
    "        Passes over the training dataset.\n",
    "\n",
    "    Attributes\n",
    "    -----------\n",
    "    w_ : 1d-array\n",
    "        Weights after fitting.\n",
    "    errors_ : list\n",
    "        Number of misclassifications (updates) in each epoch.\n",
    "\n",
    "    \"\"\"\n",
    "    def __init__(self, eta=0.01,n_iter=10,debug=False,random_seed=1):\n",
    "        self.eta = eta\n",
    "        self.n_iter = n_iter\n",
    "        self.random_seed = random_seed\n",
    "        self.debug = debug\n",
    "\n",
    "    def fit(self, X, y):\n",
    "        \"\"\"Fit training data.\n",
    "\n",
    "        Parameters\n",
    "        ----------\n",
    "        X : {array-like}, shape = [n_samples, n_features]\n",
    "            Training vectors, where n_samples is the number of samples and\n",
    "            n_features is the number of features.\n",
    "        y : array-like, shape = [n_samples]\n",
    "            Target values.\n",
    "\n",
    "        Returns\n",
    "        -------\n",
    "        self : object\n",
    "\n",
    "        \"\"\"\n",
    "        rgen = np.random.RandomState(self.random_seed) \n",
    "        self.w_ = rgen.normal(loc=0.0, scale=0.01, size=1 + X.shape[1])\n",
    "        self.errors_ = []\n",
    "        if self.debug: print(\"Initial Weights:\", self.w_)\n",
    "        for iter in range(self.n_iter):\n",
    "            errors = 0\n",
    "            if self.debug: print(\"Iteration:\", iter)\n",
    "            for xi, target in zip(X, y):\n",
    "                update = self.eta * (target - self.predict(xi))\n",
    "                if self.debug: print(xi, target, self.predict(xi), update)\n",
    "                self.w_[1:] += update * xi\n",
    "                self.w_[0] += update\n",
    "                errors += int(update != 0.0)\n",
    "                if self.debug: print(\"New Weights:\", self.w_)\n",
    "            self.errors_.append(errors) \n",
    "        return self\n",
    "\n",
    "    def net_input(self, X):\n",
    "        \"\"\"Calculate net input\"\"\"\n",
    "        return np.dot(X, self.w_[1:]) + self.w_[0]\n",
    "\n",
    "    def predict(self, X):\n",
    "        \"\"\"Return class label after unit step\"\"\"\n",
    "        return np.where(self.net_input(X) >= 0.0, 1, -1)\n",
    "\n",
    "    \n",
    "ppn1 = Perceptron_S(n_iter=40, eta=0.1, random_seed=0)\n",
    "ppn1.fit(X_train_std, y_train)\n",
    "y_pred = ppn1.predict(X_test_std)\n",
    "print('Misclassified Samples = %d' % (y_test != y_pred).sum())\n",
    "print('Accuracy = %.2f' % accuracy_score(y_test, y_pred))\n",
    "\n",
    "X_combined_std = np.vstack((X_train_std, X_test_std))\n",
    "y_combined = np.hstack((y_train, y_test))\n",
    "\n",
    "# plot graphs\n",
    "plot_decision_regions(X=X_combined_std, y=y_combined,classifier=ppn1, test_idx=range(105, 150))\n",
    "plt.title('Perceptron_S')\n",
    "plt.legend(loc='upper left')\n",
    "plt.xlabel('Sepal Length')\n",
    "plt.ylabel('Petal Width')\n",
    "plt.show()"
   ]
  },
  {
   "cell_type": "markdown",
   "metadata": {},
   "source": [
    "## Task 3 Explore parameter tuning in Scikit Logistic regression"
   ]
  },
  {
   "cell_type": "markdown",
   "metadata": {},
   "source": [
    "We have seen that the 'C' parameter in logistic regression determines the strength of logistic regression. In this exercise, you will tune the 'C' parameter to get best performance from the model for iris data classification. \n",
    "Write the code to run logistic regression on iris data and report the performance for 10 different values of 'C' (just Accuracy will do)."
   ]
  },
  {
   "cell_type": "code",
   "execution_count": 62,
   "metadata": {},
   "outputs": [],
   "source": [
    "iris_3 = pd.read_csv(\"iris.csv\")\n",
    "iris_3['Species'] = iris_3['Species'].replace(['Iris-setosa'],0)\n",
    "iris_3['Species'] = iris_3['Species'].replace(['Iris-versicolor'],1)\n",
    "iris_3['Species'] = iris_3['Species'].replace(['Iris-virginica'],2)\n",
    "\n",
    "X, Y = iris_3.iloc[:, [1,2,3,4]].values, iris_3.iloc[:, 5].values\n",
    "# train_test_split\n",
    "X_train, X_test, Y_train, Y_test = train_test_split(X, Y, test_size=0.30, random_state=0)"
   ]
  },
  {
   "cell_type": "code",
   "execution_count": 63,
   "metadata": {},
   "outputs": [],
   "source": [
    "def logistic_regression_model(c):\n",
    "    lr = LogisticRegression(C=c, random_state=0, multi_class=\"ovr\")\n",
    "    lr.fit(X_train, Y_train)\n",
    "    Y_pred = lr.predict(X_test)\n",
    "    print('\\nMisclassified Samples = %d' %(Y_test != Y_pred).sum())\n",
    "    print('Accuracy = %.2f' % accuracy_score(Y_test,Y_pred))\n",
    "    print('C value = %2f'%c)"
   ]
  },
  {
   "cell_type": "code",
   "execution_count": 69,
   "metadata": {
    "tags": []
   },
   "outputs": [
    {
     "name": "stdout",
     "output_type": "stream",
     "text": [
      "\n",
      "Misclassified Samples = 4\n",
      "Accuracy = 0.91\n",
      "C value = 0.500000\n",
      "\n",
      "Misclassified Samples = 3\n",
      "Accuracy = 0.93\n",
      "C value = 0.700000\n",
      "\n",
      "Misclassified Samples = 2\n",
      "Accuracy = 0.96\n",
      "C value = 0.900000\n",
      "\n",
      "Misclassified Samples = 2\n",
      "Accuracy = 0.96\n",
      "C value = 1.100000\n",
      "\n",
      "Misclassified Samples = 1\n",
      "Accuracy = 0.98\n",
      "C value = 1.300000\n",
      "\n",
      "Misclassified Samples = 1\n",
      "Accuracy = 0.98\n",
      "C value = 1.500000\n",
      "\n",
      "Misclassified Samples = 1\n",
      "Accuracy = 0.98\n",
      "C value = 1.700000\n",
      "\n",
      "Misclassified Samples = 1\n",
      "Accuracy = 0.98\n",
      "C value = 1.900000\n",
      "\n",
      "Misclassified Samples = 1\n",
      "Accuracy = 0.98\n",
      "C value = 2.100000\n",
      "\n",
      "Misclassified Samples = 1\n",
      "Accuracy = 0.98\n",
      "C value = 2.300000\n"
     ]
    }
   ],
   "source": [
    "C = np.arange(0.5, 2.5, 0.2).tolist() # 10 values - 0.5 to 2.5\n",
    "for i in C:\n",
    "    logistic_regression_model(i)"
   ]
  },
  {
   "cell_type": "markdown",
   "metadata": {},
   "source": [
    "## Task 4 Explore parameter tuning in SVM"
   ]
  },
  {
   "cell_type": "markdown",
   "metadata": {},
   "source": [
    "Similar to the previous task, use the SVM model for various kernels: ‘linear’, ‘poly’, ‘rbf’, ‘sigmoid’ and report the performance (just Accuracy will do). "
   ]
  },
  {
   "cell_type": "code",
   "execution_count": 71,
   "metadata": {},
   "outputs": [],
   "source": [
    "from sklearn.svm import SVC\n",
    "\n",
    "iris_4 = pd.read_csv(\"iris.csv\")\n",
    "iris_4['Species'] = iris_4['Species'].replace(['Iris-setosa'],0)\n",
    "iris_4['Species'] = iris_4['Species'].replace(['Iris-versicolor'],1)\n",
    "iris_4['Species'] = iris_4['Species'].replace(['Iris-virginica'],2)\n",
    "\n",
    "# for first three features\n",
    "X =iris_4.iloc[0:, [1,2,3,4]].values\n",
    "y = iris_4.iloc[0:, 5].values\n",
    "X_train, X_test, y_train, y_test = train_test_split(X, y, test_size=0.3, random_state=0)"
   ]
  },
  {
   "cell_type": "code",
   "execution_count": 72,
   "metadata": {},
   "outputs": [
    {
     "name": "stdout",
     "output_type": "stream",
     "text": [
      "Misclassified Samples = 1\n",
      "Accuracy =  97.77777777777777 %\n"
     ]
    }
   ],
   "source": [
    "svm = SVC(kernel='linear', C=10.0, random_state=0)\n",
    "svm.fit(X_train, y_train)\n",
    "y_pred = svm.predict(X_test)\n",
    "print('Misclassified Samples = %d' %(y_test != y_pred).sum())\n",
    "print(\"Accuracy = \", accuracy_score(y_test, y_pred)*100,\"%\")"
   ]
  },
  {
   "cell_type": "code",
   "execution_count": 73,
   "metadata": {},
   "outputs": [
    {
     "name": "stdout",
     "output_type": "stream",
     "text": [
      "Misclassified Samples = 2\n",
      "Accuracy = 95.55555555555556 %\n"
     ]
    }
   ],
   "source": [
    "svm = SVC(kernel='poly', C=10.0, random_state=0)\n",
    "svm.fit(X_train, y_train)\n",
    "y_pred = svm.predict(X_test)\n",
    "print('Misclassified Samples = %d' %(y_test != y_pred).sum())\n",
    "print(\"Accuracy =\", accuracy_score(y_test, y_pred)*100,\"%\")"
   ]
  },
  {
   "cell_type": "code",
   "execution_count": 74,
   "metadata": {},
   "outputs": [
    {
     "name": "stdout",
     "output_type": "stream",
     "text": [
      "Misclassified Samples = 1\n",
      "Accuracy = 97.77777777777777 %\n"
     ]
    }
   ],
   "source": [
    "svm = SVC(kernel='rbf', C=10.0, random_state=0)\n",
    "svm.fit(X_train, y_train)\n",
    "y_pred = svm.predict(X_test)\n",
    "print('Misclassified Samples = %d' %(y_test != y_pred).sum())\n",
    "print(\"Accuracy =\", accuracy_score(y_test, y_pred)*100,\"%\")"
   ]
  },
  {
   "cell_type": "code",
   "execution_count": 75,
   "metadata": {},
   "outputs": [
    {
     "name": "stdout",
     "output_type": "stream",
     "text": [
      "Misclassified Samples = 37\n",
      "Accuracy = 17.77777777777778 %\n"
     ]
    }
   ],
   "source": [
    "svm = SVC(kernel='sigmoid', C=10.0, random_state=0)\n",
    "svm.fit(X_train, y_train)\n",
    "y_pred = svm.predict(X_test)\n",
    "print('Misclassified Samples = %d' %(y_test != y_pred).sum())\n",
    "print(\"Accuracy =\", accuracy_score(y_test, y_pred)*100,\"%\")"
   ]
  }
 ],
 "metadata": {
  "kernelspec": {
   "display_name": "Python 3 (ipykernel)",
   "language": "python",
   "name": "python3"
  },
  "language_info": {
   "codemirror_mode": {
    "name": "ipython",
    "version": 3
   },
   "file_extension": ".py",
   "mimetype": "text/x-python",
   "name": "python",
   "nbconvert_exporter": "python",
   "pygments_lexer": "ipython3",
   "version": "3.9.12"
  }
 },
 "nbformat": 4,
 "nbformat_minor": 4
}
